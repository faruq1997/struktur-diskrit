{
  "cells": [
    {
      "cell_type": "markdown",
      "source": [
        "# Struktur Diskrit"
      ],
      "metadata": {
        "id": "LfeBVYi8bdOF"
      }
    },
    {
      "cell_type": "markdown",
      "source": [
        "# 📘 Materi HIMPUNAN\n",
        "\n",
        "## 1. Definisi Himpunan\n",
        "\n",
        "* **Definisi sederhana**: Himpunan adalah kumpulan objek/elemen yang jelas dan terdefinisi.\n",
        "* **Notasi**: Biasanya ditulis dengan kurung kurawal `{ }`.\n",
        "* **Contoh**:\n",
        "\n",
        "  * Himpunan bilangan genap kurang dari 10:\n",
        "    $A = {2,4,6,8}$\n",
        "  * Himpunan huruf vokal:\n",
        "    $B = {a,e,i,o,u}$\n",
        "\n",
        "📌 **Analogi**: Himpunan itu seperti \"folder\" di komputer yang berisi file tertentu.\n",
        "\n",
        "---\n",
        "\n",
        "## 2. Subhimpunan (Subset)\n",
        "\n",
        "* **Definisi**: Jika setiap elemen himpunan $A$ juga ada di $B$, maka $A \\subseteq B$.\n",
        "* **Rumus**:\n",
        "  $A \\subseteq B \\iff \\forall x (x \\in A \\Rightarrow x \\in B)$\n",
        "* **Contoh**:\n",
        "  $A = {2,4}, , B = {2,4,6,8}$\n",
        "  Maka $A \\subseteq B$.\n",
        "\n",
        "📌 **Analogi**: Subfolder di dalam folder induk.\n",
        "\n",
        "---\n",
        "\n",
        "## 3. Macam-macam Himpunan\n",
        "\n",
        "1. **Himpunan Kosong ($\\emptyset$)**\n",
        "   Tidak ada anggota.\n",
        "   Contoh: Himpunan bilangan genap ganjil di bawah 1 → $\\emptyset$.\n",
        "\n",
        "2. **Himpunan Tunggal**\n",
        "   Hanya punya 1 anggota.\n",
        "   Contoh: ${7}$.\n",
        "\n",
        "3. **Himpunan Semesta (Universal Set, $U$)**\n",
        "   Himpunan yang memuat semua elemen dalam konteks tertentu.\n",
        "   Contoh: Jika konteksnya bilangan kurang dari 10, maka $U = {0,1,2,3,4,5,6,7,8,9}$.\n",
        "\n",
        "4. **Himpunan Kuasa (Power Set, $P(A)$)**\n",
        "   Himpunan semua subset dari $A$.\n",
        "   Rumus: Jika $A$ punya $n$ elemen, maka $|P(A)| = 2^n$.\n",
        "   Contoh: $A = {1,2} ;\\Rightarrow; P(A) = {\\emptyset, {1}, {2}, {1,2}}$.\n",
        "\n",
        "---\n",
        "\n",
        "## 4. Operasi Himpunan\n",
        "\n",
        "1. **Gabungan (Union, $A \\cup B$)**\n",
        "   Semua anggota $A$ atau $B$.\n",
        "   Contoh:\n",
        "   $A = {1,2,3}, , B = {3,4,5}$\n",
        "   $A \\cup B = {1,2,3,4,5}$\n",
        "\n",
        "2. **Irisan (Intersection, $A \\cap B$)**\n",
        "   Anggota yang sama-sama ada di $A$ dan $B$.\n",
        "   Contoh:\n",
        "   $A \\cap B = {3}$\n",
        "\n",
        "3. **Selisih (Relative Complement, $A - B$)**\n",
        "   Anggota $A$ yang tidak ada di $B$.\n",
        "   Contoh:\n",
        "   $A - B = {1,2}$\n",
        "\n",
        "4. **Komplemen ($A'$)**\n",
        "   Elemen di semesta $U$ yang tidak ada di $A$.\n",
        "   Contoh:\n",
        "   $U = {1,2,3,4,5}, , A = {1,3}$\n",
        "   Maka $A' = {2,4,5}$.\n",
        "\n",
        "5. **Symmetric Difference ($A \\triangle B$)**\n",
        "   Elemen yang ada di $A$ atau $B$ tapi tidak di keduanya.\n",
        "   Rumus:\n",
        "   $A \\triangle B = (A - B) \\cup (B - A)$\n",
        "   Contoh:\n",
        "   $A \\triangle B = {1,2,4,5}$.\n",
        "\n",
        "📌 **Analogi real life**:\n",
        "\n",
        "* Gabungan: daftar kontak teman di HP kamu + teman di laptop.\n",
        "* Irisan: teman yang ada di kedua daftar.\n",
        "* Selisih: kontak hanya ada di HP.\n",
        "* Komplemen: semua orang di dunia kecuali yang ada di kontak kamu.\n",
        "* Symmetric difference: kontak unik di masing-masing perangkat.\n",
        "\n",
        "---\n",
        "\n",
        "## 5. Diagram Venn\n",
        "\n",
        "Diagram lingkaran untuk visualisasi:\n",
        "\n",
        "* Lingkaran = himpunan\n",
        "* Irisan = area yang tumpang tindih\n",
        "* Gabungan = semua area lingkaran\n",
        "* Komplemen = luar lingkaran\n",
        "\n",
        "---\n",
        "\n",
        "## 6. Hukum Aljabar Himpunan\n",
        "\n",
        "1. **Idempoten**\n",
        "\n",
        "   * $A \\cup A = A$\n",
        "   * $A \\cap A = A$\n",
        "\n",
        "2. **Komutatif**\n",
        "\n",
        "   * $A \\cup B = B \\cup A$\n",
        "   * $A \\cap B = B \\cap A$\n",
        "\n",
        "3. **Asosiatif**\n",
        "\n",
        "   * $(A \\cup B) \\cup C = A \\cup (B \\cup C)$\n",
        "   * $(A \\cap B) \\cap C = A \\cap (B \\cap C)$\n",
        "\n",
        "4. **Identitas**\n",
        "\n",
        "   * $A \\cup \\emptyset = A$\n",
        "   * $A \\cap U = A$\n",
        "\n",
        "📌 **Analogi**: Seperti hukum operasi matematika (tambah-kali) yang konsisten.\n",
        "\n",
        "---\n",
        "\n",
        "## 7. Perhitungan Himpunan Gabungan\n",
        "\n",
        "Jika $A$ dan $B$ adalah dua himpunan berhingga:\n",
        "\n",
        "$$|A \\cup B| = |A| + |B| - |A \\cap B|$$\n",
        "\n",
        "Contoh:\n",
        "\n",
        "* $A = {1,2,3,4}$ → $|A| = 4$\n",
        "* $B = {3,4,5,6}$ → $|B| = 4$\n",
        "* $A \\cap B = {3,4}$ → $|A \\cap B| = 2$\n",
        "\n",
        "Maka:\n",
        "$|A \\cup B| = 4 + 4 - 2 = 6$.\n",
        "\n",
        "---\n",
        "\n",
        "## 8. Studi Kasus Real-Life\n",
        "\n",
        "**Kasus: Data pengguna aplikasi streaming**\n",
        "\n",
        "* $A =$ pengguna yang suka drama korea\n",
        "* $B =$ pengguna yang suka anime\n",
        "\n",
        "📌 Pertanyaan:\n",
        "\n",
        "1. Berapa banyak pengguna yang suka minimal salah satu genre?\n",
        "   → $|A \\cup B|$\n",
        "2. Berapa yang suka keduanya?\n",
        "   → $|A \\cap B|$\n",
        "3. Berapa yang suka drama korea saja?\n",
        "   → $|A - B|$"
      ],
      "metadata": {
        "id": "Lw4lk4c0nRPQ"
      }
    },
    {
      "cell_type": "code",
      "source": [
        "# Operasi Himpunan di Python\n",
        "\n",
        "# Definisi himpunan\n",
        "A = {1,2,3,4}\n",
        "B = {3,4,5,6}\n",
        "U = set(range(1,7))\n",
        "\n",
        "print(\"A:\", A)\n",
        "print(\"B:\", B)\n",
        "\n",
        "# Operasi\n",
        "print(\"Gabungan (A ∪ B):\", A.union(B))\n",
        "print(\"Irisan (A ∩ B):\", A.intersection(B))\n",
        "print(\"Selisih (A - B):\", A.difference(B))\n",
        "print(\"Komplemen (A'):\", U.difference(A))\n",
        "print(\"Symmetric Difference:\", A.symmetric_difference(B))\n",
        "\n",
        "# Perhitungan gabungan\n",
        "n_A = len(A)\n",
        "n_B = len(B)\n",
        "n_intersect = len(A.intersection(B))\n",
        "n_union = n_A + n_B - n_intersect\n",
        "print(\"Jumlah anggota A ∪ B =\", n_union)"
      ],
      "metadata": {
        "colab": {
          "base_uri": "https://localhost:8080/"
        },
        "id": "CSahFfk5nTls",
        "outputId": "302b2c83-d7e8-4094-c63b-e7d5fe5e0d7f"
      },
      "execution_count": null,
      "outputs": [
        {
          "output_type": "stream",
          "name": "stdout",
          "text": [
            "A: {1, 2, 3, 4}\n",
            "B: {3, 4, 5, 6}\n",
            "Gabungan (A ∪ B): {1, 2, 3, 4, 5, 6}\n",
            "Irisan (A ∩ B): {3, 4}\n",
            "Selisih (A - B): {1, 2}\n",
            "Komplemen (A'): {5, 6}\n",
            "Symmetric Difference: {1, 2, 5, 6}\n",
            "Jumlah anggota A ∪ B = 6\n"
          ]
        }
      ]
    },
    {
      "cell_type": "markdown",
      "source": [
        "##10. Kesimpulan\n",
        "\n",
        "Himpunan adalah konsep dasar matematika untuk mengelompokkan elemen.\n",
        "\n",
        "Subhimpunan, macam-macam himpunan, operasi, hukum, dan perhitungan gabungan merupakan fondasi.\n",
        "\n",
        "Diagram Venn membantu visualisasi.\n",
        "\n",
        "Konsep ini digunakan dalam database, data science, machine learning (feature selection), bahkan dalam algoritma pencarian."
      ],
      "metadata": {
        "id": "4Wvr9cgro1v-"
      }
    },
    {
      "cell_type": "markdown",
      "metadata": {
        "id": "k__F8X12riyj"
      },
      "source": [
        "# 📘 Materi ekstra: Hukum Aljabar Himpunan\n",
        "\n",
        "Notebook ini berisi penjelasan dan implementasi hukum-hukum aljabar himpunan dengan contoh Python."
      ]
    },
    {
      "cell_type": "markdown",
      "metadata": {
        "id": "p4mbs6uzriym"
      },
      "source": [
        "## 1. Definisi Himpunan\n",
        "Kita akan gunakan Python `set` untuk merepresentasikan himpunan."
      ]
    },
    {
      "cell_type": "code",
      "execution_count": null,
      "metadata": {
        "id": "Tulr1rzxriym"
      },
      "outputs": [],
      "source": [
        "# Definisi himpunan\n",
        "U = {\"Ani\",\"Budi\",\"Cici\",\"Dodi\",\"Eka\",\"Fahri\"}\n",
        "A = {\"Ani\",\"Budi\",\"Cici\"}  # suka olahraga\n",
        "B = {\"Cici\",\"Dodi\",\"Eka\"}  # suka musik\n",
        "\n",
        "print(\"Semesta (U) =\", U)\n",
        "print(\"A =\", A)\n",
        "print(\"B =\", B)"
      ]
    },
    {
      "cell_type": "markdown",
      "metadata": {
        "id": "a14Wxdkjriyn"
      },
      "source": [
        "## 2. Hukum Idempoten\n",
        "$$A \\cup A = A, \\quad A \\cap A = A$$"
      ]
    },
    {
      "cell_type": "code",
      "execution_count": null,
      "metadata": {
        "id": "T6pYHYAvriyo"
      },
      "outputs": [],
      "source": [
        "print(\"A ∪ A =\", A.union(A))\n",
        "print(\"A ∩ A =\", A.intersection(A))"
      ]
    },
    {
      "cell_type": "markdown",
      "metadata": {
        "id": "5Kqfx7dYriyp"
      },
      "source": [
        "## 3. Hukum Identitas\n",
        "$$A \\cup ∅ = A, \\quad A \\cap U = A$$"
      ]
    },
    {
      "cell_type": "code",
      "execution_count": null,
      "metadata": {
        "id": "4QgKQxn2riyp"
      },
      "outputs": [],
      "source": [
        "empty = set()\n",
        "print(\"A ∪ ∅ =\", A.union(empty))\n",
        "print(\"A ∩ U =\", A.intersection(U))"
      ]
    },
    {
      "cell_type": "markdown",
      "metadata": {
        "id": "cA-ZMrapriyq"
      },
      "source": [
        "## 4. Hukum Komutatif\n",
        "$$A \\cup B = B \\cup A, \\quad A \\cap B = B \\cap A$$"
      ]
    },
    {
      "cell_type": "code",
      "execution_count": null,
      "metadata": {
        "id": "6pPGpetFriyq"
      },
      "outputs": [],
      "source": [
        "print(\"A ∪ B =\", A.union(B))\n",
        "print(\"B ∪ A =\", B.union(A))\n",
        "print(\"A ∩ B =\", A.intersection(B))\n",
        "print(\"B ∩ A =\", B.intersection(A))"
      ]
    },
    {
      "cell_type": "markdown",
      "metadata": {
        "id": "bOdYLsEMriyr"
      },
      "source": [
        "## 5. Hukum Asosiatif\n",
        "$$(A \\cup B) \\cup C = A \\cup (B \\cup C)$$"
      ]
    },
    {
      "cell_type": "code",
      "execution_count": null,
      "metadata": {
        "id": "Z9o_kwKrriyr"
      },
      "outputs": [],
      "source": [
        "C = {\"Eka\",\"Fahri\"}  # himpunan lain\n",
        "print(\"(A ∪ B) ∪ C =\", (A.union(B)).union(C))\n",
        "print(\"A ∪ (B ∪ C) =\", A.union(B.union(C)))"
      ]
    },
    {
      "cell_type": "markdown",
      "metadata": {
        "id": "G-pEPJ0sriys"
      },
      "source": [
        "## 6. Hukum Distributif\n",
        "$$A ∪ (B ∩ C) = (A ∪ B) ∩ (A ∪ C)$$"
      ]
    },
    {
      "cell_type": "code",
      "execution_count": null,
      "metadata": {
        "id": "YzE3v2Rxriys"
      },
      "outputs": [],
      "source": [
        "lhs = A.union(B.intersection(C))\n",
        "rhs = (A.union(B)).intersection(A.union(C))\n",
        "print(\"A ∪ (B ∩ C) =\", lhs)\n",
        "print(\"(A ∪ B) ∩ (A ∪ C) =\", rhs)"
      ]
    },
    {
      "cell_type": "markdown",
      "metadata": {
        "id": "4EaBFGM5riyt"
      },
      "source": [
        "## 7. Hukum Komplemen\n",
        "$$A ∪ A' = U, \\quad A ∩ A' = ∅$$"
      ]
    },
    {
      "cell_type": "code",
      "execution_count": null,
      "metadata": {
        "id": "e5AGKYvzriyt"
      },
      "outputs": [],
      "source": [
        "A_comp = U.difference(A)\n",
        "print(\"A' =\", A_comp)\n",
        "print(\"A ∪ A' =\", A.union(A_comp))\n",
        "print(\"A ∩ A' =\", A.intersection(A_comp))"
      ]
    },
    {
      "cell_type": "markdown",
      "metadata": {
        "id": "J5-TsMGxriyu"
      },
      "source": [
        "## 8. Hukum De Morgan\n",
        "$$(A ∪ B)' = A' ∩ B', \\quad (A ∩ B)' = A' ∪ B'$$"
      ]
    },
    {
      "cell_type": "code",
      "execution_count": null,
      "metadata": {
        "id": "6Yaup2TTriyu"
      },
      "outputs": [],
      "source": [
        "lhs1 = U.difference(A.union(B))\n",
        "rhs1 = U.difference(A).intersection(U.difference(B))\n",
        "lhs2 = U.difference(A.intersection(B))\n",
        "rhs2 = U.difference(A).union(U.difference(B))\n",
        "\n",
        "print(\"(A ∪ B)' =\", lhs1)\n",
        "print(\"A' ∩ B' =\", rhs1)\n",
        "print(\"(A ∩ B)' =\", lhs2)\n",
        "print(\"A' ∪ B' =\", rhs2)"
      ]
    },
    {
      "cell_type": "markdown",
      "metadata": {
        "id": "zNDUboiTwUrD"
      },
      "source": [
        "# 📘 Materi Relasi"
      ]
    },
    {
      "cell_type": "markdown",
      "metadata": {
        "id": "kSwAKPIVwUrH"
      },
      "source": [
        "## 1. Relasi Antar Himpunan (Slide 1 - 5)\n",
        "Relasi adalah hubungan antara elemen himpunan dengan elemen himpunan lain.\n",
        "\n",
        "Jika $X = \\{x_1, x_2\\}$ dan $Y = \\{y_1,y_2\\}$, maka:\n",
        "- $X \\times Y = \\{(x_1,y_1),(x_1,y_2),(x_2,y_1),(x_2,y_2)\\}$"
      ]
    },
    {
      "cell_type": "code",
      "execution_count": null,
      "metadata": {
        "colab": {
          "base_uri": "https://localhost:8080/"
        },
        "id": "YZuenS2nwUrI",
        "outputId": "a88d0aa1-ea75-4774-9cf2-1eceb8e80bb3"
      },
      "outputs": [
        {
          "output_type": "stream",
          "name": "stdout",
          "text": [
            "X x Y = {('x2', 'y2'), ('x2', 'y1'), ('x1', 'y1'), ('x1', 'y2')}\n"
          ]
        }
      ],
      "source": [
        "import itertools\n",
        "\n",
        "X = {\"x1\",\"x2\"}\n",
        "Y = {\"y1\",\"y2\"}\n",
        "cartesian = set(itertools.product(X,Y))\n",
        "print(\"X x Y =\", cartesian)"
      ]
    },
    {
      "cell_type": "markdown",
      "metadata": {
        "id": "SdmMFRbtwUrJ"
      },
      "source": [
        "## 2. Relasi Biner\n",
        "Relasi $R$ antara $X$ dan $Y$ adalah subset dari $X \\times Y$.\n",
        "\n",
        "Contoh: $R = \\{(Microsoft,Win), (IBM,OS/2), (Mac,MacOS)\\}$."
      ]
    },
    {
      "cell_type": "code",
      "execution_count": null,
      "metadata": {
        "colab": {
          "base_uri": "https://localhost:8080/"
        },
        "id": "SvKREbXCwUrJ",
        "outputId": "3eb3588b-aee7-4631-dd8f-d979657e7e60"
      },
      "outputs": [
        {
          "output_type": "stream",
          "name": "stdout",
          "text": [
            "Relasi R = {('IBM', 'OS/2'), ('Mac', 'MacOS'), ('Microsoft', 'Win')}\n"
          ]
        }
      ],
      "source": [
        "R = {(\"IBM\",\"OS/2\"), (\"Mac\",\"MacOS\"),(\"Microsoft\",\"Win\")}\n",
        "print(\"Relasi R =\", R)"
      ]
    },
    {
      "cell_type": "markdown",
      "metadata": {
        "id": "jvKpXetHwUrK"
      },
      "source": [
        "## 3. Operasi Relasi Biner (Slide 6-7)\n",
        "- **Invers Relasi**: $R^{-1}$ diperoleh dengan menukar posisi setiap pasangan.\n",
        "- **Komposisi Relasi**: Jika $P: X \\to Y$ dan $Q: Y \\to Z$, maka $P \\circ Q : X \\to Z$."
      ]
    },
    {
      "cell_type": "code",
      "execution_count": null,
      "metadata": {
        "colab": {
          "base_uri": "https://localhost:8080/"
        },
        "id": "A5gS30BtwUrK",
        "outputId": "f0be21df-60e6-406c-a3cf-303fd162c8c5"
      },
      "outputs": [
        {
          "output_type": "stream",
          "name": "stdout",
          "text": [
            "R-1 = {('y2', 'x2'), ('y1', 'x1')}\n",
            "P o Q = {('x2', 'z2'), ('x1', 'z1')}\n"
          ]
        }
      ],
      "source": [
        "# Invers Relasi\n",
        "R_inv = {(b,a) for (a,b) in R}\n",
        "print(\"R-1 =\", R_inv)\n",
        "\n",
        "# Komposisi Relasi\n",
        "P = {('x1','y1'),('x2','y2')}\n",
        "Q = {('y1','z1'),('y2','z2')}\n",
        "R_comp = {(a,c) for (a,b) in P for (d,c) in Q if b==d}\n",
        "print(\"P o Q =\", R_comp)"
      ]
    },
    {
      "cell_type": "markdown",
      "source": [
        "## 4. Sifat-sifat Relasi\n",
        "\n",
        "Misalkan $R \\subseteq A \\times A$, relasi didefinisikan pada himpunan $A$.\n",
        "Sifat-sifat penting dari relasi adalah: **refleksif, irrefleksif, simetris, antisimetri, dan transitif.**\n",
        "\n",
        "---\n",
        "\n",
        "## 1. Refleksif\n",
        "\n",
        "* **Definisi sederhana**: Relasi disebut **refleksif** jika setiap elemen berhubungan dengan dirinya sendiri.\n",
        "* **Rumus**:\n",
        "  $$\n",
        "  R \\text{ refleksif } \\iff \\forall a \\in A, (a,a) \\in R\n",
        "  $$\n",
        "* **Contoh**:\n",
        "  $A = {1,2,3}, ; R = {(1,1),(2,2),(3,3)}$ → refleksif.\n",
        "\n",
        "📌 **Analogi**: Setiap orang pasti mengenal dirinya sendiri.\n",
        "\n",
        "🎯 **Studi Kasus**:\n",
        "\n",
        "* Relasi “$\\leq$” pada bilangan bulat → refleksif, karena $a \\leq a$.\n",
        "* Dalam sistem login: setiap akun pasti punya hak akses ke dirinya sendiri.\n",
        "\n",
        "---\n",
        "\n",
        "## 2. Irrefleksif\n",
        "\n",
        "* **Definisi sederhana**: Relasi disebut **irrefleksif** jika tidak ada satupun elemen yang berhubungan dengan dirinya sendiri.\n",
        "* **Rumus**:\n",
        "  $$\n",
        "  R \\text{ irrefleksif } \\iff \\forall a \\in A, (a,a) \\notin R\n",
        "  $$\n",
        "* **Contoh**:\n",
        "  $A = {1,2,3}, ; R = {(1,2),(2,3)}$ → irrefleksif.\n",
        "\n",
        "📌 **Analogi**: Tidak ada orang yang mengirim pesan ke dirinya sendiri.\n",
        "\n",
        "🎯 **Studi Kasus**:\n",
        "\n",
        "* Relasi “$<$” → irrefleksif, karena $a < a$ tidak pernah benar.\n",
        "* Dalam jejaring sosial: seseorang biasanya tidak follow dirinya sendiri.\n",
        "\n",
        "---\n",
        "\n",
        "## 3. Simetris\n",
        "\n",
        "* **Definisi sederhana**: Relasi disebut **simetris** jika hubungan dua arah selalu berlaku.\n",
        "* **Rumus**:\n",
        "  $$\n",
        "  R \\text{ simetris } \\iff \\forall a,b \\in A, (a,b) \\in R \\Rightarrow (b,a) \\in R\n",
        "  $$\n",
        "* **Contoh**:\n",
        "  $R = {(1,2),(2,1),(3,3)}$ → simetris.\n",
        "\n",
        "📌 **Analogi**: Jika Andi berteman dengan Budi, maka Budi juga berteman dengan Andi.\n",
        "\n",
        "🎯 **Studi Kasus**:\n",
        "\n",
        "* Relasi “teman Facebook” → simetris.\n",
        "* Relasi pernikahan → simetris (jika A pasangan B, maka B pasangan A).\n",
        "\n",
        "---\n",
        "\n",
        "## 4. Antisimetri\n",
        "\n",
        "* **Definisi sederhana**: Relasi disebut **antisimetri** jika tidak ada dua arah kecuali elemen yang sama.\n",
        "* **Rumus**:\n",
        "  $$\n",
        "  R \\text{ antisimetri } \\iff \\forall a,b \\in A, (a,b) \\in R \\wedge (b,a) \\in R \\Rightarrow a=b\n",
        "  $$\n",
        "* **Contoh**:\n",
        "  $R = {(1,2),(2,2),(3,3)}$ → antisimetri.\n",
        "\n",
        "📌 **Analogi**: Jika A adalah atasan B, maka B tidak mungkin jadi atasan A.\n",
        "\n",
        "🎯 **Studi Kasus**:\n",
        "\n",
        "* Relasi “$\\leq$” → antisimetri.\n",
        "* Hierarki jabatan organisasi.\n",
        "\n",
        "---\n",
        "\n",
        "## 5. Transitif\n",
        "\n",
        "* **Definisi sederhana**: Relasi disebut **transitif** jika hubungan bisa diteruskan.\n",
        "* **Rumus**:\n",
        "  $$\n",
        "  R \\text{ transitif } \\iff \\forall a,b,c \\in A, (a,b) \\in R \\wedge (b,c) \\in R \\Rightarrow (a,c) \\in R\n",
        "  $$\n",
        "* **Contoh**:\n",
        "  $R = {(1,2),(2,3),(1,3)}$ → transitif.\n",
        "\n",
        "📌 **Analogi**: Jika Andi kenal Budi, dan Budi kenal Cici, maka Andi kenal Cici.\n",
        "\n",
        "🎯 **Studi Kasus**:\n",
        "\n",
        "* Relasi “$\\leq$” → transitif.\n",
        "* Prasyarat mata kuliah: A → B, B → C ⟹ A → C.\n",
        "\n",
        "---\n",
        "\n",
        "## 6. Ringkasan dalam Tabel\n",
        "\n",
        "| **Sifat**   | **Rumus Formal**                            | **Analogi**                 | **Contoh Relasi** |\n",
        "| ----------- | ------------------------------------------- | --------------------------- | ----------------- |\n",
        "| Refleksif   | $(a,a) \\in R$ untuk semua $a \\in A$         | Orang kenal dirinya sendiri | $a \\leq a$        |\n",
        "| Irrefleksif | $(a,a) \\notin R$ untuk semua $a \\in A$      | Tidak follow diri sendiri   | $a < a$           |\n",
        "| Simetris    | $(a,b) \\in R \\Rightarrow (b,a) \\in R$       | Pertemanan dua arah         | Teman Facebook    |\n",
        "| Antisimetri | $(a,b),(b,a) \\in R \\Rightarrow a=b$         | Hierarki jabatan            | $a \\leq b$        |\n",
        "| Transitif   | $(a,b),(b,c) \\in R \\Rightarrow (a,c) \\in R$ | Hubungan kenalan berantai   | Prasyarat kuliah  |\n"
      ],
      "metadata": {
        "id": "e1u5fMQ2Kvw0"
      }
    },
    {
      "cell_type": "markdown",
      "metadata": {
        "id": "tUJbzFP9wUrM"
      },
      "source": [
        "## 5. Kombinasi Relasi\n",
        "Relasi dapat digabungkan dengan operasi himpunan: union, intersection, difference, symmetric difference."
      ]
    },
    {
      "cell_type": "code",
      "execution_count": null,
      "metadata": {
        "id": "SP8UHJ_FwUrM",
        "colab": {
          "base_uri": "https://localhost:8080/"
        },
        "outputId": "6310dcba-655d-472f-d5e8-18695d07d87d"
      },
      "outputs": [
        {
          "output_type": "stream",
          "name": "stdout",
          "text": [
            "R1 ∩ R2 = {('a', 'a')}\n",
            "R1 ∪ R2 = {('a', 'a'), ('c', 'c'), ('a', 'd'), ('a', 'c'), ('b', 'b'), ('a', 'b')}\n",
            "R1 - R2 = {('b', 'b'), ('c', 'c')}\n",
            "R1 Δ R2 = {('c', 'c'), ('b', 'b'), ('a', 'd'), ('a', 'c'), ('a', 'b')}\n"
          ]
        }
      ],
      "source": [
        "R1 = {(\"a\",\"a\"),(\"b\",\"b\"),(\"c\",\"c\")}\n",
        "R2 = {(\"a\",\"a\"),(\"a\",\"b\"),(\"a\",\"c\"),(\"a\",\"d\")}\n",
        "\n",
        "print(\"R1 ∩ R2 =\", R1.intersection(R2))\n",
        "print(\"R1 ∪ R2 =\", R1.union(R2))\n",
        "print(\"R1 - R2 =\", R1.difference(R2))\n",
        "print(\"R1 Δ R2 =\", R1.symmetric_difference(R2))"
      ]
    },
    {
      "cell_type": "markdown",
      "source": [
        "## 📘 Studi Kasus Tambahan untuk Relasi dan Sifat-sifatnya\n",
        "\n",
        "---\n",
        "\n",
        "## 🔹 1. Kombinasi Relasi\n",
        "\n",
        "### Definisi\n",
        "\n",
        "Jika $R_1$ dan $R_2$ adalah relasi dari $A$ ke $B$, maka kita bisa melakukan operasi:\n",
        "\n",
        "* **Irisan (∩)**: pasangan yang ada di keduanya.\n",
        "* **Gabungan (∪)**: pasangan yang ada di salah satunya.\n",
        "* **Selisih (-)**: pasangan di $R_1$ tapi tidak di $R_2$.\n",
        "* **XOR (⊕)**: pasangan yang hanya ada di salah satu relasi.\n",
        "\n",
        "### Contoh\n",
        "\n",
        "Misalkan:\n",
        "\n",
        "* $A = {a,b,c}, B = {a,b,c,d}$\n",
        "* $R_1 = {(a,a),(b,b),(c,c)}$\n",
        "* $R_2 = {(a,a),(a,b),(a,c),(a,d)}$\n",
        "\n",
        "Maka:\n",
        "\n",
        "* $R_1 \\cap R_2 = {(a,a)}$\n",
        "* $R_1 \\cup R_2 = {(a,a),(b,b),(c,c),(a,b),(a,c),(a,d)}$\n",
        "* $R_1 - R_2 = {(b,b),(c,c)}$\n",
        "* $R_1 \\oplus R_2 = {(b,b),(c,c),(a,b),(a,c),(a,d)}$\n",
        "\n",
        "### Studi Kasus\n",
        "\n",
        "📌 **Database Sistem Akademik**\n",
        "\n",
        "* $R_1$: mahasiswa **mengambil matkul** (NIM, MK).\n",
        "* $R_2$: mahasiswa **lulus matkul** (NIM, MK).\n",
        "\n",
        "Maka:\n",
        "\n",
        "* $R_1 \\cap R_2$: mahasiswa yang mengambil dan lulus.\n",
        "* $R_1 - R_2$: mahasiswa yang mengambil tapi belum lulus.\n",
        "* $R_1 \\cup R_2$: semua pasangan ambil/lulus.\n",
        "\n",
        "---\n",
        "\n",
        "## 🔹 2. Refleksif\n",
        "\n",
        "### Definisi\n",
        "\n",
        "Relasi disebut **refleksif** jika semua elemen berpasangan dengan dirinya sendiri:\n",
        "$$(a,a) \\in R, ; \\forall a \\in A$$\n",
        "\n",
        "### Contoh\n",
        "\n",
        "$A={1,2,3}, R={(1,1),(2,2),(3,3)}$ → refleksif.\n",
        "\n",
        "### Studi Kasus\n",
        "\n",
        "📌 **Database Mahasiswa**\n",
        "\n",
        "* Relasi “setiap mahasiswa memiliki NIM-nya sendiri” adalah refleksif.\n",
        "* Misalnya: $(Adi,Adi), (Budi,Budi), (Cici,Cici)$.\n",
        "\n",
        "---\n",
        "\n",
        "## 🔹 3. Irrefleksif\n",
        "\n",
        "### Definisi\n",
        "\n",
        "Relasi disebut **irrefleksif** jika tidak ada elemen yang berhubungan dengan dirinya sendiri:\n",
        "$$(a,a) \\notin R, ; \\forall a \\in A$$\n",
        "\n",
        "### Contoh\n",
        "\n",
        "$A={1,2,3}, R={(1,2),(2,3)}$ → irrefleksif.\n",
        "\n",
        "### Studi Kasus\n",
        "\n",
        "📌 **Jejaring Sosial (Twitter/Instagram)**\n",
        "\n",
        "* Relasi “follow” biasanya irrefleksif: orang tidak follow dirinya sendiri.\n",
        "\n",
        "---\n",
        "\n",
        "## 🔹 4. Simetris\n",
        "\n",
        "### Definisi\n",
        "\n",
        "Relasi **simetris** jika:\n",
        "$$(a,b) \\in R \\Rightarrow (b,a) \\in R$$\n",
        "\n",
        "### Contoh\n",
        "\n",
        "$R={(1,2),(2,1),(3,3)}$ → simetris.\n",
        "\n",
        "### Studi Kasus\n",
        "\n",
        "📌 **Facebook**\n",
        "\n",
        "* Relasi “pertemanan” adalah simetris: jika Adi berteman dengan Budi, maka Budi otomatis berteman dengan Adi.\n",
        "\n",
        "---\n",
        "\n",
        "## 🔹 5. Antisimetri\n",
        "\n",
        "### Definisi\n",
        "\n",
        "Relasi **antisimetri** jika:\n",
        "$$(a,b) \\in R \\wedge (b,a) \\in R \\Rightarrow a=b$$\n",
        "\n",
        "### Contoh\n",
        "\n",
        "$R={(1,2),(2,2),(3,3)}$ → antisimetri.\n",
        "\n",
        "### Studi Kasus\n",
        "\n",
        "📌 **Organisasi / Perusahaan**\n",
        "\n",
        "* Relasi “atasan-bawahan” → antisimetri.\n",
        "* Jika A adalah atasan B, maka B tidak bisa jadi atasan A (kecuali orang yang sama → direktur = dirinya sendiri).\n",
        "\n",
        "---\n",
        "\n",
        "## 🔹 6. Transitif\n",
        "\n",
        "### Definisi\n",
        "\n",
        "Relasi **transitif** jika:\n",
        "$$(a,b) \\in R \\wedge (b,c) \\in R \\Rightarrow (a,c) \\in R$$\n",
        "\n",
        "### Contoh\n",
        "\n",
        "$R={(1,2),(2,3),(1,3)}$ → transitif.\n",
        "\n",
        "### Studi Kasus\n",
        "\n",
        "📌 **Prasyarat Mata Kuliah**\n",
        "\n",
        "* Jika Algoritma prasyarat Struktur Data,\n",
        "* Struktur Data prasyarat Basis Data,\n",
        "* Maka otomatis Algoritma prasyarat Basis Data.\n",
        "\n",
        "📌 **E-commerce**\n",
        "\n",
        "* Jika barang A sering dibeli bersama B,\n",
        "* Barang B sering dibeli bersama C,\n",
        "* Maka barang A → C bisa direkomendasikan.\n",
        "\n",
        "---\n",
        "\n",
        "## 🔹 7. Gabungan Studi Kasus\n",
        "\n",
        "Bayangkan **sistem informasi akademik**:\n",
        "\n",
        "* Himpunan $M$: Mahasiswa.\n",
        "* Himpunan $K$: Mata Kuliah.\n",
        "* Relasi $R$: “Mahasiswa mengambil MK”.\n",
        "\n",
        "### Penerapan:\n",
        "\n",
        "1. **Refleksif**: setiap MK dianggap “prasyarat dirinya sendiri” → $MK \\to MK$.\n",
        "2. **Irrefleksif**: mahasiswa tidak bisa jadi dosen untuk dirinya sendiri.\n",
        "3. **Simetris**: relasi “teman sekelas”.\n",
        "4. **Antisimetri**: relasi “dosen-mengajar-MK”.\n",
        "5. **Transitif**: jika MK A → MK B, MK B → MK C, maka A → C.\n",
        "6. **Kombinasi relasi**: filter mahasiswa yang mengambil tapi belum lulus."
      ],
      "metadata": {
        "id": "Lno0SgrPPdlK"
      }
    },
    {
      "cell_type": "code",
      "source": [
        "A = {1,2,3}\n",
        "R = {(1,1),(2,2),(3,3),(1,2)}\n",
        "\n",
        "# Refleksif?\n",
        "is_reflexive = all((a,a) in R for a in A)\n",
        "\n",
        "# Irrefleksif?\n",
        "is_irreflexive = all((a,a) not in R for a in A)\n",
        "\n",
        "# Simetris?\n",
        "is_symmetric = all(((b,a) in R) for (a,b) in R)\n",
        "\n",
        "# Antisimetri?\n",
        "is_antisymmetric = all(((b,a) not in R or a==b) for (a,b) in R)\n",
        "\n",
        "# Transitif?\n",
        "is_transitive = all(((a,c) in R) for (a,b) in R for (x,c) in R if b==x)\n",
        "\n",
        "print(\"Refleksif?\", is_reflexive)\n",
        "print(\"Irrefleksif?\", is_irreflexive)\n",
        "print(\"Simetris?\", is_symmetric)\n",
        "print(\"Antisimetri?\", is_antisymmetric)\n",
        "print(\"Transitif?\", is_transitive)"
      ],
      "metadata": {
        "id": "CEw1YA5fP0DM"
      },
      "execution_count": null,
      "outputs": []
    },
    {
      "cell_type": "markdown",
      "source": [
        "## 8. Studi Kasus Nyata\n",
        "✅ E-Commerce\n",
        "\n",
        "Himpunan produk: $P = {\\text{Laptop, HP, Charger}}$\n",
        "\n",
        "Relasi: “dibeli bersama” → $(Laptop, Charger)$\n",
        "\n",
        "Implementasi → sistem rekomendasi Frequently Bought Together di Tokopedia/Shopee.\n",
        "\n",
        "✅ Sosial Media\n",
        "\n",
        "Himpunan pengguna: $U = {\\text{Ani, Budi, Cici}}$\n",
        "\n",
        "Relasi: “follow” → $(Ani,Budi),(Budi,Cici)$\n",
        "\n",
        "Implementasi → adjacency list/graph di backend Instagram. 'orang yang mungkin Anda kenal'\n",
        "\n",
        "✅ Machine Learning\n",
        "\n",
        "Himpunan data → fitur (X).\n",
        "\n",
        "Relasi → label (Y).\n",
        "\n",
        "Model ML mempelajari fungsi $f: X \\to Y$.\n",
        "\n",
        "✅ Sistem Akademik\n",
        "\n",
        "Himpunan mahasiswa (M), mata kuliah (K).\n",
        "\n",
        "Relasi: “mengambil” $R \\subseteq M \\times K$.\n",
        "\n",
        "Dipakai untuk KRS (Kartu Rencana Studi) dan pengecekan prasyarat."
      ],
      "metadata": {
        "id": "rXzi3b4YSMGp"
      }
    },
    {
      "cell_type": "markdown",
      "source": [
        "# 📘 Materi Sekilas Basis Data\n",
        "\n",
        "## 🔹 Apa itu Basis Data?\n",
        "\n",
        "* **Definisi**: Basis data adalah kumpulan data yang terorganisir, disimpan secara sistematis, dan dapat diakses dengan mudah.\n",
        "* Basis data digunakan untuk **menyimpan, mengelola, dan memanipulasi** data dengan efisien.\n",
        "\n",
        "---\n",
        "\n",
        "## 🔹 Istilah Penting dalam Basis Data\n",
        "\n",
        "1. **Data**: Fakta mentah yang disimpan (contoh: \"Budi\", \"21\", \"Jakarta\").\n",
        "2. **Informasi**: Data yang diolah sehingga bermakna.\n",
        "3. **DBMS (Database Management System)**: perangkat lunak untuk mengelola basis data (MySQL, PostgreSQL, Oracle, MongoDB, dsb).\n",
        "4. **Tabel (relation)**: struktur penyimpanan data dalam bentuk **baris** dan **kolom**.\n",
        "5. **Atribut (Kolom)**: nama kolom dalam tabel (contoh: `nama`, `usia`).\n",
        "6. **Tuple (Baris/Record)**: satu entri data lengkap (contoh: `('Budi', 21, 'Jakarta')`).\n",
        "7. **Key (Kunci)**:\n",
        "\n",
        "   * **Primary Key**: atribut unik yang membedakan tiap record (contoh: NIM mahasiswa).\n",
        "   * **Foreign Key**: atribut yang menghubungkan antar tabel.\n",
        "8. **Query**: instruksi untuk mengakses/manipulasi data (SQL: `SELECT`, `INSERT`, `UPDATE`, `DELETE`).\n",
        "9. **Tipe Data**:\n",
        "\n",
        "   * `INT` → bilangan bulat\n",
        "   * `VARCHAR` → teks\n",
        "   * `DATE` → tanggal\n",
        "   * `FLOAT/DECIMAL` → bilangan desimal\n",
        "\n",
        "---\n",
        "\n",
        "## 🔹 Contoh DBMS yang Terkenal\n",
        "\n",
        "* **Relasional (SQL)**:\n",
        "\n",
        "  * MySQL (YouTube, Facebook awal)\n",
        "  * PostgreSQL (Spotify, Instagram)\n",
        "  * Oracle (Bank besar, ERP perusahaan)\n",
        "  * SQL Server (perusahaan berbasis Microsoft)\n",
        "\n",
        "* **Non-relasional (NoSQL)**:\n",
        "\n",
        "  * MongoDB (Uber, eBay)\n",
        "  * Cassandra (Netflix, Instagram)\n",
        "  * DynamoDB (Amazon)\n",
        "  * BigQuery (Google)\n",
        "\n",
        "📌 Jadi perusahaan besar menggunakan kombinasi SQL & NoSQL sesuai kebutuhan:\n",
        "\n",
        "* **Google** → BigQuery (analitik), Spanner (SQL global).\n",
        "* **Facebook** → MySQL (utama) + Cassandra (skala besar).\n",
        "* **Netflix** → Cassandra + MySQL.\n",
        "* **Amazon** → DynamoDB + Aurora (SQL cloud).\n",
        "\n",
        "---\n",
        "\n",
        "# 📘 2. Relasi dalam Basis Data\n",
        "\n",
        "Dalam teori relasional, **relasi = tabel**. Dari relasi inilah kita bisa lakukan operasi **aljabar relasional**.\n",
        "\n",
        "## 🔹 a) Seleksi (Selection)\n",
        "\n",
        "* **Definisi**: memilih baris (tuple) tertentu dari tabel.\n",
        "* **Notasi**:\n",
        "  $\\sigma_{\\text{kondisi}} (R)$\n",
        "* **Contoh SQL**:\n",
        "\n",
        "  ```sql\n",
        "  SELECT * FROM mahasiswa WHERE usia > 20;\n",
        "  ```\n",
        "* **Makna**: ambil mahasiswa dengan usia lebih dari 20 tahun.\n",
        "\n",
        "---\n",
        "\n",
        "## 🔹 b) Proyeksi (Projection)\n",
        "\n",
        "* **Definisi**: memilih kolom (atribut) tertentu.\n",
        "* **Notasi**:\n",
        "  $\\pi_{\\text{atribut}} (R)$\n",
        "* **Contoh SQL**:\n",
        "\n",
        "  ```sql\n",
        "  SELECT nama, jurusan FROM mahasiswa;\n",
        "  ```\n",
        "* **Makna**: ambil hanya kolom `nama` dan `jurusan`.\n",
        "\n",
        "---\n",
        "\n",
        "## 🔹 c) Gabungan (Join)\n",
        "\n",
        "* **Definisi**: menggabungkan 2 tabel berdasarkan atribut kunci.\n",
        "* **Notasi**:\n",
        "  $R \\bowtie S$\n",
        "* **Contoh SQL**:\n",
        "\n",
        "  ```sql\n",
        "  SELECT mahasiswa.nama, matkul.nama_mk\n",
        "  FROM mahasiswa\n",
        "  JOIN ambil ON mahasiswa.nim = ambil.nim\n",
        "  JOIN matkul ON ambil.kd_mk = matkul.kd_mk;\n",
        "  ```\n",
        "* **Makna**: tampilkan nama mahasiswa dengan nama mata kuliah yang diambilnya.\n",
        "---\n",
        "# 📘 4. Ringkasnya\n",
        "\n",
        "* **Basis data** = kumpulan data terstruktur dalam tabel.\n",
        "* **Istilah kunci**: query, key, tuple, atribut, baris, kolom, tipe data.\n",
        "* **Operasi relasi utama**: **Seleksi, Proyeksi, Gabungan**.\n",
        "* **Perusahaan besar** gunakan kombinasi SQL (MySQL, PostgreSQL, Oracle) dan NoSQL (MongoDB, Cassandra, DynamoDB).\n",
        "* **Studi kasus Python** bisa dibuat dengan SQLite untuk simulasi query SQL."
      ],
      "metadata": {
        "id": "VYjS2A_pUd0R"
      }
    },
    {
      "cell_type": "code",
      "source": [
        "import sqlite3\n",
        "import pandas as pd\n",
        "\n",
        "# Buat database sementara di memory\n",
        "conn = sqlite3.connect(\":memory:\")\n",
        "cur = conn.cursor()\n",
        "\n",
        "# Buat tabel\n",
        "cur.execute(\"CREATE TABLE mahasiswa (nim TEXT PRIMARY KEY, nama TEXT, jurusan TEXT)\")\n",
        "cur.execute(\"CREATE TABLE matkul (kd_mk TEXT PRIMARY KEY, nama_mk TEXT)\")\n",
        "cur.execute(\"CREATE TABLE ambil (nim TEXT, kd_mk TEXT, FOREIGN KEY(nim) REFERENCES mahasiswa(nim), FOREIGN KEY(kd_mk) REFERENCES matkul(kd_mk))\")\n",
        "\n",
        "# Insert data\n",
        "mahasiswa_data = [\n",
        "    (\"M01\",\"Andi\",\"Informatika\"),\n",
        "    (\"M02\",\"Budi\",\"Sistem Informasi\"),\n",
        "    (\"M03\",\"Cici\",\"Informatika\")\n",
        "]\n",
        "matkul_data = [\n",
        "    (\"MK01\",\"Basis Data\"),\n",
        "    (\"MK02\",\"Struktur Data\"),\n",
        "    (\"MK03\",\"AI\")\n",
        "]\n",
        "ambil_data = [\n",
        "    (\"M01\",\"MK01\"),\n",
        "    (\"M01\",\"MK02\"),\n",
        "    (\"M02\",\"MK01\"),\n",
        "    (\"M03\",\"MK03\")\n",
        "]\n",
        "\n",
        "cur.executemany(\"INSERT INTO mahasiswa VALUES (?,?,?)\", mahasiswa_data)\n",
        "cur.executemany(\"INSERT INTO matkul VALUES (?,?)\", matkul_data)\n",
        "cur.executemany(\"INSERT INTO ambil VALUES (?,?)\", ambil_data)\n",
        "conn.commit()\n",
        "\n",
        "# Seleksi: mahasiswa Informatika\n",
        "df_seleksi = pd.read_sql_query(\"SELECT * FROM mahasiswa WHERE jurusan='Informatika'\", conn)\n",
        "\n",
        "# Proyeksi: hanya nama mahasiswa\n",
        "df_proyeksi = pd.read_sql_query(\"SELECT nama FROM mahasiswa\", conn)\n",
        "\n",
        "# Join: tampilkan mahasiswa dengan mata kuliah\n",
        "df_join = pd.read_sql_query(\"\"\"\n",
        "SELECT m.nama, k.nama_mk\n",
        "FROM mahasiswa m\n",
        "JOIN ambil a ON m.nim = a.nim\n",
        "JOIN matkul k ON a.kd_mk = k.kd_mk\n",
        "\"\"\", conn)\n",
        "\n",
        "print(\"Seleksi:\\n\", df_seleksi)\n",
        "print(\"\\nProyeksi:\\n\", df_proyeksi)\n",
        "print(\"\\nJoin:\\n\", df_join)"
      ],
      "metadata": {
        "id": "AmL0R8OdUzGZ"
      },
      "execution_count": null,
      "outputs": []
    },
    {
      "cell_type": "markdown",
      "metadata": {
        "id": "JskG_LziwUrN"
      },
      "source": [
        "## 6. Fungsi\n",
        "Fungsi adalah relasi khusus: setiap elemen domain dipetakan ke tepat satu elemen kodomain.\n",
        "\n",
        "Contoh: $f = \\{(1,u),(2,v),(3,w)\\}$ adalah fungsi dari $A=\\{1,2,3\\}$ ke $B=\\{u,v,w\\}$."
      ]
    },
    {
      "cell_type": "code",
      "execution_count": 23,
      "metadata": {
        "id": "LQ8zRTq3wUrN",
        "colab": {
          "base_uri": "https://localhost:8080/"
        },
        "outputId": "6bf37f9e-3806-444c-8996-f370e39335e7"
      },
      "outputs": [
        {
          "output_type": "stream",
          "name": "stdout",
          "text": [
            "Fungsi valid? True\n"
          ]
        }
      ],
      "source": [
        "A = {1,2,3}\n",
        "B = {\"u\",\"v\",\"w\"}\n",
        "f = {(1,\"u\"),(2,\"v\"),(3,\"w\")}\n",
        "\n",
        "# cek fungsi: setiap elemen domain unik\n",
        "domain = [a for (a,_) in f]\n",
        "print(\"Fungsi valid?\", len(domain)==len(set(domain)))"
      ]
    },
    {
      "cell_type": "markdown",
      "source": [
        "# 📘 Materi Fungsi\n",
        "\n",
        "# 1. Definisi Fungsi\n",
        "\n",
        "* **Definisi sederhana**:\n",
        "  Fungsi adalah **relasi khusus** dari himpunan $A$ (domain) ke himpunan $B$ (kodomain), di mana **setiap elemen domain dipasangkan dengan tepat satu elemen di kodomain**.\n",
        "\n",
        "* **Notasi**:\n",
        "  $$\n",
        "  f: A \\to B\n",
        "  $$\n",
        "  dengan aturan $f(a) = b$.\n",
        "\n",
        "* **Contoh**:\n",
        "  $A = {1,2,3}, B = {4,5,6}$\n",
        "  $f = {(1,4),(2,5),(3,6)}$ adalah fungsi.\n",
        "\n",
        "  Tapi relasi ${(1,4),(1,5),(2,6)}$ **bukan fungsi**, karena $1$ berhubungan dengan 2 elemen.\n",
        "\n",
        "---\n",
        "\n",
        "# 📘 2. Macam Fungsi\n",
        "\n",
        "## 🔹 a) Fungsi **One-to-One (Injektif)**\n",
        "\n",
        "* **Definisi**: setiap elemen domain dipetakan ke **elemen berbeda** di kodomain.\n",
        "* **Rumus**:\n",
        "  $$\n",
        "  f(a_1) = f(a_2) \\Rightarrow a_1 = a_2\n",
        "  $$\n",
        "* **Contoh**: $f(x) = x+1$ dari $A={1,2,3}$ ke $B={2,3,4}$ → injektif.\n",
        "\n",
        "📌 **Studi Kasus**:\n",
        "\n",
        "* NIM → Mahasiswa.\n",
        "  Setiap NIM unik untuk satu mahasiswa.\n",
        "\n",
        "---\n",
        "\n",
        "## 🔹 b) Fungsi **Onto (Surjektif)**\n",
        "\n",
        "* **Definisi**: setiap elemen kodomain memiliki pasangan dari domain.\n",
        "* **Rumus**:\n",
        "  $$\n",
        "  \\forall b \\in B, ; \\exists a \\in A ; \\text{sehingga } f(a) = b\n",
        "  $$\n",
        "* **Contoh**: $f(x) = x^2$ dari $A={-2,-1,0,1,2}$ ke $B={0,1,4}$ → surjektif.\n",
        "\n",
        "📌 **Studi Kasus**:\n",
        "\n",
        "* Mahasiswa → Kursi di kelas.\n",
        "  Jika semua kursi terisi, fungsi adalah surjektif.\n",
        "\n",
        "---\n",
        "\n",
        "## 🔹 c) Fungsi **Bijektif** (One-to-One & Onto)\n",
        "\n",
        "* **Definisi**: injektif + surjektif.\n",
        "* Setiap domain dipetakan ke kodomain **tanpa ada yang tersisa**.\n",
        "* **Contoh**: $f(x)=x+1$ dari $A={1,2,3}$ ke $B={2,3,4}$ → bijektif.\n",
        "\n",
        "📌 **Studi Kasus**:\n",
        "\n",
        "* NIK (KTP) ↔ Penduduk.\n",
        "  Setiap penduduk punya 1 NIK, setiap NIK milik 1 penduduk.\n",
        "\n",
        "---\n",
        "\n",
        "# 📘 3. Studi Kasus Lengkap\n",
        "\n",
        "## ✅ Studi Kasus 1: Sistem Akademik\n",
        "\n",
        "* Fungsi **NIM → Mahasiswa** = injektif (NIM unik).\n",
        "* Fungsi **Mahasiswa → Kelas** = surjektif (semua kelas diisi).\n",
        "* Fungsi **NIM ↔ Mahasiswa** = bijektif (satu lawan satu).\n",
        "\n",
        "## ✅ Studi Kasus 2: E-Commerce\n",
        "\n",
        "* Fungsi **Produk → Supplier** = banyak produk bisa ke 1 supplier (tidak injektif).\n",
        "* Fungsi **Transaksi → Invoice** = injektif (setiap transaksi ada invoice unik).\n",
        "* Fungsi **Invoice ↔ Transaksi** = bijektif.\n",
        "\n",
        "## ✅ Studi Kasus 3: IT & Login System\n",
        "\n",
        "* Fungsi **Username → Akun** = injektif.\n",
        "* Fungsi **Akun → Server Session** = surjektif jika semua server aktif terpakai.\n",
        "\n",
        "---\n",
        "\n",
        "# 📘 4. Implementasi di Python\n",
        "\n",
        "### a) Injektif\n",
        "\n",
        "```python\n",
        "def is_injective(mapping):\n",
        "    return len(set(mapping.values())) == len(mapping.values())\n",
        "\n",
        "f1 = {1:\"a\", 2:\"b\", 3:\"c\"} # injektif\n",
        "f2 = {1:\"a\", 2:\"a\", 3:\"c\"} # tidak injektif\n",
        "\n",
        "print(\"f1 injektif?\", is_injective(f1))\n",
        "print(\"f2 injektif?\", is_injective(f2))\n",
        "```\n",
        "\n",
        "### b) Surjektif\n",
        "\n",
        "```python\n",
        "def is_surjective(mapping, codomain):\n",
        "    return set(mapping.values()) == set(codomain)\n",
        "\n",
        "codomain = {\"a\",\"b\",\"c\"}\n",
        "f3 = {1:\"a\", 2:\"b\", 3:\"c\"} # surjektif\n",
        "f4 = {1:\"a\", 2:\"b\"}        # tidak surjektif\n",
        "\n",
        "print(\"f3 surjektif?\", is_surjective(f3, codomain))\n",
        "print(\"f4 surjektif?\", is_surjective(f4, codomain))\n",
        "```\n",
        "\n",
        "### c) Bijektif\n",
        "\n",
        "```python\n",
        "def is_bijective(mapping, codomain):\n",
        "    return is_injective(mapping) and is_surjective(mapping, codomain)\n",
        "\n",
        "print(\"f3 bijektif?\", is_bijective(f3, codomain))\n",
        "```\n",
        "\n",
        "---\n",
        "\n",
        "# 📘 5. Kenapa Perlu Fungsi?\n",
        "\n",
        "Kalau sudah ada himpunan & relasi, mengapa masih perlu fungsi?\n",
        "\n",
        "* **Himpunan**: hanya sekumpulan elemen → tidak ada hubungan.\n",
        "* **Relasi**: ada hubungan, tapi **boleh ganda** (satu domain bisa ke banyak kodomain).\n",
        "* **Fungsi**: relasi **spesial & terstruktur**, tiap input hanya punya **1 output** → lebih **deterministik**.\n",
        "\n",
        "📌 **Alasan penting fungsi**:\n",
        "\n",
        "1. **Matematika** → fungsi mempermudah pemetaan antar himpunan (misal $f(x)=x^2$).\n",
        "2. **Database** → foreign key ke primary key adalah fungsi.\n",
        "3. **Pemrograman** → fungsi/prosedur menjamin input → output tunggal.\n",
        "4. **Machine Learning** → model belajar fungsi $f: X \\to Y$.\n",
        "\n",
        "---\n",
        "\n",
        "# 📘 6. Simpelnya guys\n",
        "\n",
        "* **Fungsi = relasi khusus**: setiap domain → tepat satu kodomain.\n",
        "* **Jenis**: injektif (unik), surjektif (semua terpakai), bijektif (unik & semua terpakai).\n",
        "* **Studi kasus nyata**: NIM ↔ mahasiswa, login system, transaksi ↔ invoice.\n",
        "* **Implementasi Python**: cek injektif, surjektif, bijektif.\n",
        "* **Kebutuhan fungsi**: agar sistem data **konsisten, unik, deterministik**."
      ],
      "metadata": {
        "id": "AakmDkxkVst_"
      }
    },
    {
      "cell_type": "markdown",
      "source": [
        "---"
      ],
      "metadata": {
        "id": "QR0Lwpl5Y3Up"
      }
    },
    {
      "cell_type": "markdown",
      "source": [
        "# 📘 Tugas Diskusi Kelompok\n",
        "\n",
        "👥 **Format Kelompok**: 1 kelompok terdiri dari **3 orang**\n",
        "\n",
        "📂 **Pengumpulan**: dikumpulkan ke **Elnusa** dalam format **.pdf**\n",
        "📝 **Identitas**: wajib mencantumkan **NIM, Nama Lengkap, Kelas, Nama Kelompok**\n",
        "\n",
        "---\n",
        "\n",
        "## ✨ Soal Diskusi\n",
        "\n",
        "### **Soal 1**\n",
        "\n",
        "Jelaskan dan berikan **screenshot** contoh penerapan **Himpunan, Relasi, dan Fungsi** dari **salah satu aplikasi berikut**:\n",
        "\n",
        "* YouTube\n",
        "* TikTok\n",
        "* Spotify\n",
        "* Gojek\n",
        "* Tokopedia\n",
        "* Shopee\n",
        "* Grab\n",
        "* Instagram\n",
        "\n",
        "---\n",
        "\n",
        "### **Soal 2**\n",
        "\n",
        "Carilah **contoh penerapan** dari masing-masing konsep berikut dalam dunia nyata (boleh real life atau aplikasi/program komputer):\n",
        "\n",
        "1. **Himpunan**\n",
        "2. **Relasi**\n",
        "3. **Fungsi**\n",
        "\n",
        "---\n",
        "\n",
        "### **Soal 3**\n",
        "\n",
        "Diskusikan bagaimana konsep **Himpunan, Relasi, dan Fungsi** saling berhubungan dalam sebuah **sistem informasi**.\n",
        "\n",
        "* Berikan **studi kasus nyata** (misalnya: sistem akademik, e-commerce, media sosial).\n",
        "* Jelaskan **peran masing-masing konsep** dalam sistem tersebut."
      ],
      "metadata": {
        "id": "_rCBjUbLY5GH"
      }
    },
    {
      "cell_type": "markdown",
      "source": [
        "-- Good Luck --"
      ],
      "metadata": {
        "id": "mV3hCupLZBcd"
      }
    }
  ],
  "metadata": {
    "kernelspec": {
      "display_name": "Python 3",
      "language": "python",
      "name": "python3"
    },
    "language_info": {
      "name": "python",
      "version": "3.11"
    },
    "colab": {
      "provenance": [],
      "collapsed_sections": [
        "Lw4lk4c0nRPQ",
        "k__F8X12riyj",
        "zNDUboiTwUrD",
        "VYjS2A_pUd0R",
        "AakmDkxkVst_"
      ]
    }
  },
  "nbformat": 4,
  "nbformat_minor": 0
}